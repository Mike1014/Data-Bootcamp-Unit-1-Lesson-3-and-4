{
 "cells": [
  {
   "cell_type": "markdown",
   "metadata": {},
   "source": [
    "Question 1: You're testing advertising emails for a bathing suit company and you test one version of the email in February and the other in May.\n",
    "    # Potential Bias: \n",
    "    * Two different times of year might cause people to have different perspective on the bathing suit\n",
    "    * The emails might be sent to different groups of people \n",
    "    * Designers might have spent more time on designing the first version of the email\n",
    "    \n",
    "    # Initial Design:\n",
    "    * The original purpose of this A/A test is probably to test the effectiveness of the advertising emails. The person who was in charge of this experiment decided to send out these adversiting emails to see if they would help the sales of the bathing suits go up and wanted to give the experiment a period of 3 months, hence running the test in Feburary and May.\n",
    "    "
   ]
  },
  {
   "cell_type": "markdown",
   "metadata": {
    "collapsed": true
   },
   "source": [
    "Question 2: You open a clinic to treat anxiety and find that the people who visit show a higher rate of anxiety than the general population.\n",
    "    # Potential Bias:\n",
    "    * People are more nervous when they visit the doctors\n",
    "    * Patiences who should up to a clinic that treat anxiety are more likely to be affected by anxiety\n",
    "    \n",
    "    # Initial Design:\n",
    "    * A possible interpertation of this question is that the analyst wants to figure out the show up rate within the clinic. A variable that determines the show up rate is anxiety, he wants to analyze on if a patience has anxiety, would he still show up to the clinic for treatment."
   ]
  },
  {
   "cell_type": "markdown",
   "metadata": {},
   "source": [
    "Question 3: You launch a new ad billboard based campaign and see an increase in website visits in the first week.\n",
    "    # Potential Bias:\n",
    "    * It could be chance that people decided to visit the website within that certain week\n",
    "    * New billboard ad might be targeted toward the wrong audience (ex: kids who decided to visit the website because it was colorful and doesn't really do anything)\n",
    "    # Initial Design: \n",
    "    * The purpose of new billboard advertisement is to attract more customers. The original idea is most likely to be testing for the effectiveness of new billboard designs.\n",
    "    "
   ]
  },
  {
   "cell_type": "markdown",
   "metadata": {},
   "source": [
    "Question 4: You launch a loyalty program but see no change in visits in the first week.\n",
    "    # Potential Bias:\n",
    "    * Maybe no one saw the program because it was badly advertise\n",
    "    * The time of meeting conflicts with working schedules\n",
    "    * It was raining/snowing on the first week\n",
    "    \n",
    "    #Initial Design:\n",
    "    * The organizer wants to bring in more members to the loyalty program. He wants to test if people around the area would be interest in the program.\n",
    "    "
   ]
  },
  {
   "cell_type": "code",
   "execution_count": null,
   "metadata": {
    "collapsed": true
   },
   "outputs": [],
   "source": [
    "\n"
   ]
  }
 ],
 "metadata": {
  "kernelspec": {
   "display_name": "Python 3",
   "language": "python",
   "name": "python3"
  },
  "language_info": {
   "codemirror_mode": {
    "name": "ipython",
    "version": 3
   },
   "file_extension": ".py",
   "mimetype": "text/x-python",
   "name": "python",
   "nbconvert_exporter": "python",
   "pygments_lexer": "ipython3",
   "version": "3.6.1"
  }
 },
 "nbformat": 4,
 "nbformat_minor": 2
}
