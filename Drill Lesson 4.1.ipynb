{
 "cells": [
  {
   "cell_type": "markdown",
   "metadata": {},
   "source": [
    "# A/B Tests    "
   ]
  },
  {
   "cell_type": "markdown",
   "metadata": {},
   "source": [
    "    a. Does a new supplement help people sleep better?\n",
    "        Control Group - people not taking supplement\n",
    "        Test Group - people taking supplement\n",
    "        Sample - I want to perform experiment on 200 college students (100 people for each group)\n",
    "        Hypothesis - the group that takes new supplement will sleep better\n",
    "        Key Metric - the number of hour of sleep each night, over a period of a month\n",
    "        Other Variables - bed, noise, and stress\n",
    "                        bed size and softness will affect sleep\n",
    "                        there might be a loud noise party next door which will cause disturbance to people\n",
    "                        students who have a final/midterm tend to be more stressful which results in less sleep"
   ]
  },
  {
   "cell_type": "markdown",
   "metadata": {},
   "source": [
    "    b. Will new uniforms help a gym's business?\n",
    "        Control Group - employees wearing old uniform\n",
    "        Test Group - employees wearing new uniform\n",
    "        Sample - two gyms within the same city that is the same brand (LA Fitness) and have similar equipment\n",
    "        Hypothesis - the new uniforms will not help gym's business\n",
    "        Key Metric - the number of new signup for memberships \n",
    "        Other Variables - location and customer service\n",
    "                        one gym might be located in the town center while the other gym is located in the outskirt\n",
    "                        the workers' attitude toward the members"
   ]
  },
  {
   "cell_type": "markdown",
   "metadata": {},
   "source": [
    "    c. Will a new homepage improve my online exotic pet rental business?\n",
    "        Control Group - homepage with old design\n",
    "        Test Group - homepage with new design\n",
    "        Sample - have old homepage for 30 days and new homepage for 30 days\n",
    "        Hypothesis - the homepage with new design will improve business\n",
    "        Key Metric - the number of exotic pet rentals\n",
    "        Other Variables - time of the year (since the sample is not taking place in the same time)"
   ]
  },
  {
   "cell_type": "markdown",
   "metadata": {
    "collapsed": true
   },
   "source": [
    "    d. If I put 'please read' in the email subject will more people read my emails?\n",
    "        Control Group - people who recive normal emails\n",
    "        Test Group - people who recive emails with \"please read\"\n",
    "        Sample - randomly send one version of the two version of the email to 500 people\n",
    "        Hypothesis - emails with \"please read\" are more likely to be read\n",
    "        Key Metric - the number of clicks \n",
    "        Other Variables - ages and professions\n",
    "                         teenagers are less likely to check emails on a daily basis\n",
    "                         some professions do not check emails as often as some other professions (plumbers vs professors)"
   ]
  },
  {
   "cell_type": "code",
   "execution_count": null,
   "metadata": {
    "collapsed": true
   },
   "outputs": [],
   "source": []
  }
 ],
 "metadata": {
  "kernelspec": {
   "display_name": "Python 3",
   "language": "python",
   "name": "python3"
  },
  "language_info": {
   "codemirror_mode": {
    "name": "ipython",
    "version": 3
   },
   "file_extension": ".py",
   "mimetype": "text/x-python",
   "name": "python",
   "nbconvert_exporter": "python",
   "pygments_lexer": "ipython3",
   "version": "3.6.1"
  }
 },
 "nbformat": 4,
 "nbformat_minor": 2
}
