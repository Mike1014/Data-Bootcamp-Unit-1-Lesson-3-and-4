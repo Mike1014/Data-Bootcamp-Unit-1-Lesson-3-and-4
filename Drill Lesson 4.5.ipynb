{
 "cells": [
  {
   "cell_type": "markdown",
   "metadata": {},
   "source": [
    "I want to make an RFC for the Capstone Project that I have done for my prep-course\n",
    "    # Problem: Which genre of movies will be more popular\n",
    "    # Potential Solution: Decide popularity based on the number movies produced throughout the years and would be produce in the future\n",
    "    # Hypothesis: Action Genre will be the most popular genre\n",
    "    # Method: Pull datas from Imdb to see the production of movies from each genre\n",
    "    # Metric: \n",
    "        * Key - The number of movies produced throughout the years will be the main factor\n",
    "        * Other - Profitability, Big-Named Actors or Producers, and Public Recognition"
   ]
  },
  {
   "cell_type": "code",
   "execution_count": null,
   "metadata": {
    "collapsed": true
   },
   "outputs": [],
   "source": [
    "\n"
   ]
  }
 ],
 "metadata": {
  "kernelspec": {
   "display_name": "Python 3",
   "language": "python",
   "name": "python3"
  },
  "language_info": {
   "codemirror_mode": {
    "name": "ipython",
    "version": 3
   },
   "file_extension": ".py",
   "mimetype": "text/x-python",
   "name": "python",
   "nbconvert_exporter": "python",
   "pygments_lexer": "ipython3",
   "version": "3.6.1"
  }
 },
 "nbformat": 4,
 "nbformat_minor": 2
}
