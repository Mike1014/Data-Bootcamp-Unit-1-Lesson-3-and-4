{
 "cells": [
  {
   "cell_type": "code",
   "execution_count": 1,
   "metadata": {
    "collapsed": true
   },
   "outputs": [],
   "source": [
    "import pandas as pd"
   ]
  },
  {
   "cell_type": "code",
   "execution_count": 190,
   "metadata": {
    "scrolled": true
   },
   "outputs": [],
   "source": [
    "df = pd.read_csv('C:/Users/mikey/AnacondaProjects/Unit 1/WELLCOME_APCspend2013_forThinkful.csv', encoding = \"ISO-8859-1\")"
   ]
  },
  {
   "cell_type": "code",
   "execution_count": 205,
   "metadata": {},
   "outputs": [],
   "source": [
    "df.columns = ['PMID\\PMCID', 'Publisher', 'Journal title', 'Article title', 'Cost']\n",
    "df['Cost'] = df['Cost'].str.replace('£', '')\n",
    "df['Cost'] = df['Cost'].str.replace('$', '')"
   ]
  },
  {
   "cell_type": "code",
   "execution_count": 264,
   "metadata": {},
   "outputs": [
    {
     "data": {
      "text/html": [
       "<div>\n",
       "<style>\n",
       "    .dataframe thead tr:only-child th {\n",
       "        text-align: right;\n",
       "    }\n",
       "\n",
       "    .dataframe thead th {\n",
       "        text-align: left;\n",
       "    }\n",
       "\n",
       "    .dataframe tbody tr th {\n",
       "        vertical-align: top;\n",
       "    }\n",
       "</style>\n",
       "<table border=\"1\" class=\"dataframe\">\n",
       "  <thead>\n",
       "    <tr style=\"text-align: right;\">\n",
       "      <th></th>\n",
       "      <th>Journal title</th>\n",
       "    </tr>\n",
       "  </thead>\n",
       "  <tbody>\n",
       "    <tr>\n",
       "      <th>plos one</th>\n",
       "      <td>190</td>\n",
       "    </tr>\n",
       "    <tr>\n",
       "      <th>journal of biological chemistry</th>\n",
       "      <td>53</td>\n",
       "    </tr>\n",
       "    <tr>\n",
       "      <th>neuroimage</th>\n",
       "      <td>29</td>\n",
       "    </tr>\n",
       "    <tr>\n",
       "      <th>plos genetics</th>\n",
       "      <td>24</td>\n",
       "    </tr>\n",
       "    <tr>\n",
       "      <th>plos pathogens</th>\n",
       "      <td>24</td>\n",
       "    </tr>\n",
       "  </tbody>\n",
       "</table>\n",
       "</div>"
      ],
      "text/plain": [
       "                                 Journal title\n",
       "plos one                                   190\n",
       "journal of biological chemistry             53\n",
       "neuroimage                                  29\n",
       "plos genetics                               24\n",
       "plos pathogens                              24"
      ]
     },
     "execution_count": 264,
     "metadata": {},
     "output_type": "execute_result"
    }
   ],
   "source": [
    "# determine the five most common journals and the total articles for each.\n",
    "temp = df['Journal title'].str.lower()\n",
    "five_common_journal = temp.value_counts()\n",
    "five_common_journal = five_common_journal.to_frame().head()\n",
    "five_common_journal"
   ]
  },
  {
   "cell_type": "code",
   "execution_count": 265,
   "metadata": {},
   "outputs": [
    {
     "data": {
      "text/plain": [
       "['plos one',\n",
       " 'journal of biological chemistry',\n",
       " 'neuroimage',\n",
       " 'plos genetics',\n",
       " 'plos pathogens']"
      ]
     },
     "execution_count": 265,
     "metadata": {},
     "output_type": "execute_result"
    }
   ],
   "source": [
    "five_titles = list(five_common_journal.index.values)\n",
    "five_titles"
   ]
  },
  {
   "cell_type": "code",
   "execution_count": 228,
   "metadata": {},
   "outputs": [],
   "source": [
    "df['Journal title'] = df['Journal title'].str.lower()\n",
    "df = df.dropna(subset = ['Journal title', 'Cost'])"
   ]
  },
  {
   "cell_type": "markdown",
   "metadata": {},
   "source": [
    "# locate rows that has the above five titles\n",
    "df_plos_one = df.loc[lambda x: df['Journal title'].str.contains(five_titles[0])]\n",
    "\n",
    "df_bio_chem = df.loc[lambda x: df['Journal title'].str.contains(five_titles[1])]\n",
    "\n",
    "df_neuroimage = df.loc[lambda x: df['Journal title'].str.contains(five_titles[2])]\n",
    "\n",
    "df_plos_gene = df.loc[lambda x: df['Journal title'].str.contains(five_titles[3])]\n",
    "\n",
    "df_plos_patho = df.loc[lambda x: df['Journal title'].str.contains(five_titles[4])]"
   ]
  },
  {
   "cell_type": "code",
   "execution_count": 299,
   "metadata": {},
   "outputs": [],
   "source": [
    "df_cost = pd.DataFrame()\n",
    "\n",
    "for x in five_titles:\n",
    "    temp = df.loc[lambda y: df['Journal title'].str.contains(x)]\n",
    "    df_cost = df_cost.append(temp)"
   ]
  },
  {
   "cell_type": "code",
   "execution_count": 300,
   "metadata": {},
   "outputs": [],
   "source": [
    "#convert cost to float type object\n",
    "df_cost['Cost'] = pd.to_numeric(df_cost['Cost'], downcast = 'float')\n",
    "\n",
    "#get rid of outliers\n",
    "df_cost = df_cost.loc[lambda x: df_cost['Cost'] < 3000]\n",
    "\n",
    "# reset index\n",
    "df_cost = df_cost.reset_index(drop = True)"
   ]
  },
  {
   "cell_type": "code",
   "execution_count": 318,
   "metadata": {},
   "outputs": [
    {
     "name": "stdout",
     "output_type": "stream",
     "text": [
      "Plos One: \n",
      "\n",
      "\t Mean: [934.65607] \n",
      "\n",
      "\t Median: [896.97498] \n",
      "\n",
      "\t Std: [201.84764] \n",
      "\n",
      "Journal of Biological Chemistry: \n",
      "\n",
      "\t Mean: [1415.8768] \n",
      "\n",
      "\t Median: [1314.53] \n",
      "\n",
      "\t Std: [389.44183] \n",
      "\n",
      "Neruoimage: \n",
      "\n",
      "\t Mean: [2050.7561] \n",
      "\n",
      "\t Median: [2289.2451] \n",
      "\n",
      "\t Std: [472.21146] \n",
      "\n",
      "Plos Genetics: \n",
      "\n",
      "\t Mean: [1643.111] \n",
      "\n",
      "\t Median: [1712.73] \n",
      "\n",
      "\t Std: [153.36684] \n",
      "\n",
      "Plos Pathogens: \n",
      "\n",
      "\t Mean: [1572.8668] \n",
      "\n",
      "\t Median: [1600.25] \n",
      "\n",
      "\t Std: [161.78088] \n",
      "\n"
     ]
    }
   ],
   "source": [
    "#find mean, median, standard deviation for each journal\n",
    "print('Plos One: \\n')\n",
    "df_plos_one = df_cost.loc[lambda x: df_cost['Journal title'].str.contains(five_titles[0])]\n",
    "print('\\t Mean:', list(df_plos_one.mean()), '\\n')\n",
    "print('\\t Median:', list(df_plos_one.median()), '\\n')\n",
    "print('\\t Std:', list(df_plos_one.std()), '\\n')\n",
    "\n",
    "print('Journal of Biological Chemistry: \\n')\n",
    "df_bio_chem = df_cost.loc[lambda x: df_cost['Journal title'].str.contains(five_titles[1])]\n",
    "print('\\t Mean:', list(df_bio_chem.mean()), '\\n')\n",
    "print('\\t Median:', list(df_bio_chem.median()), '\\n')\n",
    "print('\\t Std:', list(df_bio_chem.std()), '\\n')\n",
    "\n",
    "print('Neruoimage: \\n')\n",
    "df_neuroimage = df_cost.loc[lambda x: df_cost['Journal title'].str.contains(five_titles[2])]\n",
    "print('\\t Mean:', list(df_neuroimage.mean()), '\\n')\n",
    "print('\\t Median:', list(df_neuroimage.median()), '\\n')\n",
    "print('\\t Std:', list(df_neuroimage.std()), '\\n')\n",
    "\n",
    "print('Plos Genetics: \\n')\n",
    "df_plos_gene = df_cost.loc[lambda x: df_cost['Journal title'].str.contains(five_titles[3])]\n",
    "print('\\t Mean:', list(df_plos_gene.mean()), '\\n')\n",
    "print('\\t Median:', list(df_plos_gene.median()), '\\n')\n",
    "print('\\t Std:', list(df_plos_gene.std()), '\\n')\n",
    "\n",
    "print('Plos Pathogens: \\n')\n",
    "df_plos_patho = df_cost.loc[lambda x: df_cost['Journal title'].str.contains(five_titles[4])]\n",
    "print('\\t Mean:', list(df_plos_patho.mean()), '\\n')\n",
    "print('\\t Median:', list(df_plos_patho.median()), '\\n')\n",
    "print('\\t Std:', list(df_plos_patho.std()), '\\n')"
   ]
  },
  {
   "cell_type": "code",
   "execution_count": null,
   "metadata": {
    "collapsed": true
   },
   "outputs": [],
   "source": []
  }
 ],
 "metadata": {
  "kernelspec": {
   "display_name": "Python 3",
   "language": "python",
   "name": "python3"
  },
  "language_info": {
   "codemirror_mode": {
    "name": "ipython",
    "version": 3
   },
   "file_extension": ".py",
   "mimetype": "text/x-python",
   "name": "python",
   "nbconvert_exporter": "python",
   "pygments_lexer": "ipython3",
   "version": "3.6.1"
  }
 },
 "nbformat": 4,
 "nbformat_minor": 2
}
